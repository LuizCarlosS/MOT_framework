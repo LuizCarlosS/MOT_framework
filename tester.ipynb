{
 "cells": [
  {
   "cell_type": "code",
   "execution_count": 3,
   "metadata": {},
   "outputs": [
    {
     "data": {
      "text/plain": [
       "True"
      ]
     },
     "execution_count": 3,
     "metadata": {},
     "output_type": "execute_result"
    },
    {
     "ename": "",
     "evalue": "",
     "output_type": "error",
     "traceback": [
      "\u001b[1;31mThe Kernel crashed while executing code in the the current cell or a previous cell. Please review the code in the cell(s) to identify a possible cause of the failure. Click <a href='https://aka.ms/vscodeJupyterKernelCrash'>here</a> for more info. View Jupyter <a href='command:jupyter.viewOutput'>log</a> for further details."
     ]
    }
   ],
   "source": [
    "from utils.bounding_box import draw_bounding_boxes\n",
    "import cv2\n",
    "import numpy as np\n",
    "\n",
    "# Define some example data\n",
    "boxes = np.array([\n",
    "    [0, 100, 200, 50, 100],\n",
    "    [1, 300, 400, 100, 200],\n",
    "    [2, 500, 600, 150, 250]\n",
    "])\n",
    "class_names = ['car', 'person', 'bicycle']\n",
    "colors = [(0, 255, 0), (0, 0, 255), (255, 0, 0)]\n",
    "\n",
    "# Load an example image\n",
    "image = cv2.imread('example.jpg')\n",
    "\n",
    "# Draw the bounding boxes on the image\n",
    "draw_bounding_boxes(image, boxes, class_names, colors)\n",
    "\n",
    "# Display the image\n",
    "cv2.imwrite('image.jpg', image)\n",
    "# cv2.waitKey(0)\n",
    "# cv2.destroyAllWindows()\n"
   ]
  },
  {
   "cell_type": "code",
   "execution_count": null,
   "metadata": {},
   "outputs": [],
   "source": []
  }
 ],
 "metadata": {
  "kernelspec": {
   "display_name": "torch-gpu",
   "language": "python",
   "name": "python3"
  },
  "language_info": {
   "codemirror_mode": {
    "name": "ipython",
    "version": 3
   },
   "file_extension": ".py",
   "mimetype": "text/x-python",
   "name": "python",
   "nbconvert_exporter": "python",
   "pygments_lexer": "ipython3",
   "version": "3.10.4"
  },
  "orig_nbformat": 4
 },
 "nbformat": 4,
 "nbformat_minor": 2
}
